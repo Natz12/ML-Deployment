{
 "cells": [
  {
   "cell_type": "markdown",
   "source": [
    "# Description\n",
    "We will work with a Kaggle dataset from the ([New York City Taxi Trip Duration](https://www.kaggle.com/c/nyc-taxi-trip-duration)). We will create a model to predict the total ride duration of taxi trips in New York City 🗽. The dataset includes variables like vendor, pick-up and drop-off location, passenger count and pick-up time 🚕💨💨💨."
   ],
   "metadata": {}
  },
  {
   "cell_type": "code",
   "execution_count": 2,
   "source": [
    "# Import libraries\n",
    "import pandas as pd\n",
    "import numpy as np\n",
    "from typing import List\n",
    "import matplotlib\n"
   ],
   "outputs": [],
   "metadata": {}
  },
  {
   "cell_type": "code",
   "execution_count": 4,
   "source": [
    "file_name = 'taxi-trip-duration.csv'\n",
    "\n",
    "try:\n",
    "    df_train = pd.read_csv(file_name)\n",
    "    print(f'{file_name} found on disk')\n",
    "except:\n",
    "    url = \"https://factored-workshops.s3.amazonaws.com/taxi-trip-duration.csv\"\n",
    "    print(f'{file_name} not found on disk, downloading from{url}')\n",
    "    df_train = pd.read_csv(url)\n",
    "    df_train.to_csv(file_name, index=False)\n",
    "\n",
    "print(df_train.head())"
   ],
   "outputs": [
    {
     "output_type": "stream",
     "name": "stdout",
     "text": [
      "taxi-trip-duration.csv not found on disk, downloading fromhttps://factored-workshops.s3.amazonaws.com/taxi-trip-duration.csv\n",
      "          id  vendor_id      pickup_datetime     dropoff_datetime  \\\n",
      "0  id2875421          2  2016-03-14 17:24:55  2016-03-14 17:32:30   \n",
      "1  id2377394          1  2016-06-12 00:43:35  2016-06-12 00:54:38   \n",
      "2  id3858529          2  2016-01-19 11:35:24  2016-01-19 12:10:48   \n",
      "3  id3504673          2  2016-04-06 19:32:31  2016-04-06 19:39:40   \n",
      "4  id2181028          2  2016-03-26 13:30:55  2016-03-26 13:38:10   \n",
      "\n",
      "   passenger_count  pickup_longitude  pickup_latitude  dropoff_longitude  \\\n",
      "0                1        -73.982155        40.767937         -73.964630   \n",
      "1                1        -73.980415        40.738564         -73.999481   \n",
      "2                1        -73.979027        40.763939         -74.005333   \n",
      "3                1        -74.010040        40.719971         -74.012268   \n",
      "4                1        -73.973053        40.793209         -73.972923   \n",
      "\n",
      "   dropoff_latitude store_and_fwd_flag  trip_duration pickup_borough  \\\n",
      "0         40.765602                  N            455      Manhattan   \n",
      "1         40.731152                  N            663      Manhattan   \n",
      "2         40.710087                  N           2124      Manhattan   \n",
      "3         40.706718                  N            429       Brooklyn   \n",
      "4         40.782520                  N            435      Manhattan   \n",
      "\n",
      "  dropoff_borough  \n",
      "0       Manhattan  \n",
      "1        Brooklyn  \n",
      "2        Brooklyn  \n",
      "3        Brooklyn  \n",
      "4       Manhattan  \n"
     ]
    }
   ],
   "metadata": {}
  },
  {
   "cell_type": "code",
   "execution_count": 17,
   "source": [
    "print('columns:', df_train.columns)\n",
    "print('shape:', df_train.shape)"
   ],
   "outputs": [
    {
     "output_type": "stream",
     "name": "stdout",
     "text": [
      "columns: Index(['id', 'vendor_id', 'pickup_datetime', 'dropoff_datetime',\n",
      "       'passenger_count', 'pickup_longitude', 'pickup_latitude',\n",
      "       'dropoff_longitude', 'dropoff_latitude', 'store_and_fwd_flag',\n",
      "       'trip_duration', 'pickup_borough', 'dropoff_borough'],\n",
      "      dtype='object')\n",
      "shape: (1458644, 13)\n"
     ]
    }
   ],
   "metadata": {}
  },
  {
   "cell_type": "markdown",
   "source": [
    "## Prevent data leakage\n",
    "We need to remove dropoff_datetime since we want to predict the total ride duration of taxi trips and it would be very easy to do total_ride_duration = pickup_datetime - dropoff_datetime. Let's remove this variable."
   ],
   "metadata": {}
  },
  {
   "cell_type": "code",
   "execution_count": 18,
   "source": [
    "df_train = df_train.drop(\"dropoff_datetime\", axis=1)"
   ],
   "outputs": [],
   "metadata": {}
  },
  {
   "cell_type": "markdown",
   "source": [
    "Let's now check each column's data type"
   ],
   "metadata": {}
  },
  {
   "cell_type": "code",
   "execution_count": 19,
   "source": [
    "df_train.dtypes"
   ],
   "outputs": [
    {
     "output_type": "execute_result",
     "data": {
      "text/plain": [
       "id                     object\n",
       "vendor_id               int64\n",
       "pickup_datetime        object\n",
       "passenger_count         int64\n",
       "pickup_longitude      float64\n",
       "pickup_latitude       float64\n",
       "dropoff_longitude     float64\n",
       "dropoff_latitude      float64\n",
       "store_and_fwd_flag     object\n",
       "trip_duration           int64\n",
       "pickup_borough         object\n",
       "dropoff_borough        object\n",
       "dtype: object"
      ]
     },
     "metadata": {},
     "execution_count": 19
    }
   ],
   "metadata": {}
  },
  {
   "cell_type": "markdown",
   "source": [
    "As we can see the `pickup_datetime` column should be of type datetime but is of type `object(string)`. We can use the function `to_datetime()` to convert this column. Using the properties of `datetime` we can extract the year, month, weekday and hour of the ride."
   ],
   "metadata": {}
  },
  {
   "cell_type": "code",
   "execution_count": 20,
   "source": [
    "df_train['pickup_datetime']= pd.to_datetime(df_train['pickup_datetime'])\n",
    "df_train[\"year\"] = df_train[\"pickup_datetime\"].dt.year\n",
    "df_train[\"month\"] = df_train[\"pickup_datetime\"].dt.month\n",
    "df_train[\"weekday\"] = df_train[\"pickup_datetime\"].dt.weekday\n",
    "df_train[\"hour\"] = df_train[\"pickup_datetime\"].dt.hour\n",
    "\n",
    "df_train[[\"pickup_datetime\",\"year\",\"month\",\"weekday\",\"hour\"]].head()"
   ],
   "outputs": [
    {
     "output_type": "execute_result",
     "data": {
      "text/html": [
       "<div>\n",
       "<style scoped>\n",
       "    .dataframe tbody tr th:only-of-type {\n",
       "        vertical-align: middle;\n",
       "    }\n",
       "\n",
       "    .dataframe tbody tr th {\n",
       "        vertical-align: top;\n",
       "    }\n",
       "\n",
       "    .dataframe thead th {\n",
       "        text-align: right;\n",
       "    }\n",
       "</style>\n",
       "<table border=\"1\" class=\"dataframe\">\n",
       "  <thead>\n",
       "    <tr style=\"text-align: right;\">\n",
       "      <th></th>\n",
       "      <th>pickup_datetime</th>\n",
       "      <th>year</th>\n",
       "      <th>month</th>\n",
       "      <th>weekday</th>\n",
       "      <th>hour</th>\n",
       "    </tr>\n",
       "  </thead>\n",
       "  <tbody>\n",
       "    <tr>\n",
       "      <th>0</th>\n",
       "      <td>2016-03-14 17:24:55</td>\n",
       "      <td>2016</td>\n",
       "      <td>3</td>\n",
       "      <td>0</td>\n",
       "      <td>17</td>\n",
       "    </tr>\n",
       "    <tr>\n",
       "      <th>1</th>\n",
       "      <td>2016-06-12 00:43:35</td>\n",
       "      <td>2016</td>\n",
       "      <td>6</td>\n",
       "      <td>6</td>\n",
       "      <td>0</td>\n",
       "    </tr>\n",
       "    <tr>\n",
       "      <th>2</th>\n",
       "      <td>2016-01-19 11:35:24</td>\n",
       "      <td>2016</td>\n",
       "      <td>1</td>\n",
       "      <td>1</td>\n",
       "      <td>11</td>\n",
       "    </tr>\n",
       "    <tr>\n",
       "      <th>3</th>\n",
       "      <td>2016-04-06 19:32:31</td>\n",
       "      <td>2016</td>\n",
       "      <td>4</td>\n",
       "      <td>2</td>\n",
       "      <td>19</td>\n",
       "    </tr>\n",
       "    <tr>\n",
       "      <th>4</th>\n",
       "      <td>2016-03-26 13:30:55</td>\n",
       "      <td>2016</td>\n",
       "      <td>3</td>\n",
       "      <td>5</td>\n",
       "      <td>13</td>\n",
       "    </tr>\n",
       "  </tbody>\n",
       "</table>\n",
       "</div>"
      ],
      "text/plain": [
       "      pickup_datetime  year  month  weekday  hour\n",
       "0 2016-03-14 17:24:55  2016      3        0    17\n",
       "1 2016-06-12 00:43:35  2016      6        6     0\n",
       "2 2016-01-19 11:35:24  2016      1        1    11\n",
       "3 2016-04-06 19:32:31  2016      4        2    19\n",
       "4 2016-03-26 13:30:55  2016      3        5    13"
      ]
     },
     "metadata": {},
     "execution_count": 20
    }
   ],
   "metadata": {}
  },
  {
   "cell_type": "markdown",
   "source": [
    "We can now describe our variables"
   ],
   "metadata": {}
  },
  {
   "cell_type": "code",
   "execution_count": 21,
   "source": [
    "pd.set_option('display.float_format', lambda x: '%.5f' % x)\n",
    "df_train.describe()"
   ],
   "outputs": [
    {
     "output_type": "execute_result",
     "data": {
      "text/html": [
       "<div>\n",
       "<style scoped>\n",
       "    .dataframe tbody tr th:only-of-type {\n",
       "        vertical-align: middle;\n",
       "    }\n",
       "\n",
       "    .dataframe tbody tr th {\n",
       "        vertical-align: top;\n",
       "    }\n",
       "\n",
       "    .dataframe thead th {\n",
       "        text-align: right;\n",
       "    }\n",
       "</style>\n",
       "<table border=\"1\" class=\"dataframe\">\n",
       "  <thead>\n",
       "    <tr style=\"text-align: right;\">\n",
       "      <th></th>\n",
       "      <th>vendor_id</th>\n",
       "      <th>passenger_count</th>\n",
       "      <th>pickup_longitude</th>\n",
       "      <th>pickup_latitude</th>\n",
       "      <th>dropoff_longitude</th>\n",
       "      <th>dropoff_latitude</th>\n",
       "      <th>trip_duration</th>\n",
       "      <th>year</th>\n",
       "      <th>month</th>\n",
       "      <th>weekday</th>\n",
       "      <th>hour</th>\n",
       "    </tr>\n",
       "  </thead>\n",
       "  <tbody>\n",
       "    <tr>\n",
       "      <th>count</th>\n",
       "      <td>1458644.00000</td>\n",
       "      <td>1458644.00000</td>\n",
       "      <td>1458644.00000</td>\n",
       "      <td>1458644.00000</td>\n",
       "      <td>1458644.00000</td>\n",
       "      <td>1458644.00000</td>\n",
       "      <td>1458644.00000</td>\n",
       "      <td>1458644.00000</td>\n",
       "      <td>1458644.00000</td>\n",
       "      <td>1458644.00000</td>\n",
       "      <td>1458644.00000</td>\n",
       "    </tr>\n",
       "    <tr>\n",
       "      <th>mean</th>\n",
       "      <td>1.53495</td>\n",
       "      <td>1.66453</td>\n",
       "      <td>-73.97349</td>\n",
       "      <td>40.75092</td>\n",
       "      <td>-73.97342</td>\n",
       "      <td>40.75180</td>\n",
       "      <td>959.49227</td>\n",
       "      <td>2016.00000</td>\n",
       "      <td>3.51682</td>\n",
       "      <td>3.05037</td>\n",
       "      <td>13.60648</td>\n",
       "    </tr>\n",
       "    <tr>\n",
       "      <th>std</th>\n",
       "      <td>0.49878</td>\n",
       "      <td>1.31424</td>\n",
       "      <td>0.07090</td>\n",
       "      <td>0.03288</td>\n",
       "      <td>0.07064</td>\n",
       "      <td>0.03589</td>\n",
       "      <td>5237.43172</td>\n",
       "      <td>0.00000</td>\n",
       "      <td>1.68104</td>\n",
       "      <td>1.95404</td>\n",
       "      <td>6.39969</td>\n",
       "    </tr>\n",
       "    <tr>\n",
       "      <th>min</th>\n",
       "      <td>1.00000</td>\n",
       "      <td>0.00000</td>\n",
       "      <td>-121.93334</td>\n",
       "      <td>34.35970</td>\n",
       "      <td>-121.93330</td>\n",
       "      <td>32.18114</td>\n",
       "      <td>1.00000</td>\n",
       "      <td>2016.00000</td>\n",
       "      <td>1.00000</td>\n",
       "      <td>0.00000</td>\n",
       "      <td>0.00000</td>\n",
       "    </tr>\n",
       "    <tr>\n",
       "      <th>25%</th>\n",
       "      <td>1.00000</td>\n",
       "      <td>1.00000</td>\n",
       "      <td>-73.99187</td>\n",
       "      <td>40.73735</td>\n",
       "      <td>-73.99133</td>\n",
       "      <td>40.73588</td>\n",
       "      <td>397.00000</td>\n",
       "      <td>2016.00000</td>\n",
       "      <td>2.00000</td>\n",
       "      <td>1.00000</td>\n",
       "      <td>9.00000</td>\n",
       "    </tr>\n",
       "    <tr>\n",
       "      <th>50%</th>\n",
       "      <td>2.00000</td>\n",
       "      <td>1.00000</td>\n",
       "      <td>-73.98174</td>\n",
       "      <td>40.75410</td>\n",
       "      <td>-73.97975</td>\n",
       "      <td>40.75452</td>\n",
       "      <td>662.00000</td>\n",
       "      <td>2016.00000</td>\n",
       "      <td>4.00000</td>\n",
       "      <td>3.00000</td>\n",
       "      <td>14.00000</td>\n",
       "    </tr>\n",
       "    <tr>\n",
       "      <th>75%</th>\n",
       "      <td>2.00000</td>\n",
       "      <td>2.00000</td>\n",
       "      <td>-73.96733</td>\n",
       "      <td>40.76836</td>\n",
       "      <td>-73.96301</td>\n",
       "      <td>40.76981</td>\n",
       "      <td>1075.00000</td>\n",
       "      <td>2016.00000</td>\n",
       "      <td>5.00000</td>\n",
       "      <td>5.00000</td>\n",
       "      <td>19.00000</td>\n",
       "    </tr>\n",
       "    <tr>\n",
       "      <th>max</th>\n",
       "      <td>2.00000</td>\n",
       "      <td>9.00000</td>\n",
       "      <td>-61.33553</td>\n",
       "      <td>51.88108</td>\n",
       "      <td>-61.33553</td>\n",
       "      <td>43.92103</td>\n",
       "      <td>3526282.00000</td>\n",
       "      <td>2016.00000</td>\n",
       "      <td>6.00000</td>\n",
       "      <td>6.00000</td>\n",
       "      <td>23.00000</td>\n",
       "    </tr>\n",
       "  </tbody>\n",
       "</table>\n",
       "</div>"
      ],
      "text/plain": [
       "          vendor_id  passenger_count  pickup_longitude  pickup_latitude  \\\n",
       "count 1458644.00000    1458644.00000     1458644.00000    1458644.00000   \n",
       "mean        1.53495          1.66453         -73.97349         40.75092   \n",
       "std         0.49878          1.31424           0.07090          0.03288   \n",
       "min         1.00000          0.00000        -121.93334         34.35970   \n",
       "25%         1.00000          1.00000         -73.99187         40.73735   \n",
       "50%         2.00000          1.00000         -73.98174         40.75410   \n",
       "75%         2.00000          2.00000         -73.96733         40.76836   \n",
       "max         2.00000          9.00000         -61.33553         51.88108   \n",
       "\n",
       "       dropoff_longitude  dropoff_latitude  trip_duration          year  \\\n",
       "count      1458644.00000     1458644.00000  1458644.00000 1458644.00000   \n",
       "mean           -73.97342          40.75180      959.49227    2016.00000   \n",
       "std              0.07064           0.03589     5237.43172       0.00000   \n",
       "min           -121.93330          32.18114        1.00000    2016.00000   \n",
       "25%            -73.99133          40.73588      397.00000    2016.00000   \n",
       "50%            -73.97975          40.75452      662.00000    2016.00000   \n",
       "75%            -73.96301          40.76981     1075.00000    2016.00000   \n",
       "max            -61.33553          43.92103  3526282.00000    2016.00000   \n",
       "\n",
       "              month       weekday          hour  \n",
       "count 1458644.00000 1458644.00000 1458644.00000  \n",
       "mean        3.51682       3.05037      13.60648  \n",
       "std         1.68104       1.95404       6.39969  \n",
       "min         1.00000       0.00000       0.00000  \n",
       "25%         2.00000       1.00000       9.00000  \n",
       "50%         4.00000       3.00000      14.00000  \n",
       "75%         5.00000       5.00000      19.00000  \n",
       "max         6.00000       6.00000      23.00000  "
      ]
     },
     "metadata": {},
     "execution_count": 21
    }
   ],
   "metadata": {}
  },
  {
   "cell_type": "markdown",
   "source": [
    "From this description we can observe the following:\n",
    "- \n",
    "\n",
    "De las estadísticas descriptivas podemos concluir los siguientes puntos:\n",
    "La cantidad de pasajeros transportados va desde 0 hasta 9\n",
    "La duración puede tomar mínimo 1 segundo y máximo 3'526.282 segundos que aproximadamente son 5.938 horas (¿Estos datos tienen sentido?) Es importante revisar si existen datos atípicos.\n",
    "Los datos corresponden a los meses entre enero y junio del año 2016"
   ],
   "metadata": {}
  },
  {
   "cell_type": "code",
   "execution_count": 22,
   "source": [
    "import matplotlib.style \n",
    "import matplotlib as mpl \n",
    "mpl.style.use('classic')\n",
    "\n"
   ],
   "outputs": [],
   "metadata": {}
  },
  {
   "cell_type": "code",
   "execution_count": 23,
   "source": [
    "fig = px.box(df_train , y = \"trip_duration\" , labels = {\"trip_duration\": \"Trip duration\"} , title = \"Boxplot: Trip duration\") \n",
    "\n",
    "fig.update_yaxes(range=[0, 10000]) \n",
    "\n",
    "fig.show()"
   ],
   "outputs": [
    {
     "output_type": "error",
     "ename": "NameError",
     "evalue": "name 'px' is not defined",
     "traceback": [
      "\u001b[0;31m---------------------------------------------------------------------------\u001b[0m",
      "\u001b[0;31mNameError\u001b[0m                                 Traceback (most recent call last)",
      "\u001b[0;32m/var/folders/cm/267sjs255nj2dc8lwwgqz5lh0000gn/T/ipykernel_9401/1341947844.py\u001b[0m in \u001b[0;36m<module>\u001b[0;34m\u001b[0m\n\u001b[0;32m----> 1\u001b[0;31m \u001b[0mfig\u001b[0m \u001b[0;34m=\u001b[0m \u001b[0mpx\u001b[0m\u001b[0;34m.\u001b[0m\u001b[0mbox\u001b[0m\u001b[0;34m(\u001b[0m\u001b[0mdf_train\u001b[0m \u001b[0;34m,\u001b[0m \u001b[0my\u001b[0m \u001b[0;34m=\u001b[0m \u001b[0;34m\"trip_duration\"\u001b[0m \u001b[0;34m,\u001b[0m \u001b[0mlabels\u001b[0m \u001b[0;34m=\u001b[0m \u001b[0;34m{\u001b[0m\u001b[0;34m\"trip_duration\"\u001b[0m\u001b[0;34m:\u001b[0m \u001b[0;34m\"Trip duration\"\u001b[0m\u001b[0;34m}\u001b[0m \u001b[0;34m,\u001b[0m \u001b[0mtitle\u001b[0m \u001b[0;34m=\u001b[0m \u001b[0;34m\"Boxplot: Trip duration\"\u001b[0m\u001b[0;34m)\u001b[0m\u001b[0;34m\u001b[0m\u001b[0;34m\u001b[0m\u001b[0m\n\u001b[0m\u001b[1;32m      2\u001b[0m \u001b[0;34m\u001b[0m\u001b[0m\n\u001b[1;32m      3\u001b[0m \u001b[0mfig\u001b[0m\u001b[0;34m.\u001b[0m\u001b[0mupdate_yaxes\u001b[0m\u001b[0;34m(\u001b[0m\u001b[0mrange\u001b[0m\u001b[0;34m=\u001b[0m\u001b[0;34m[\u001b[0m\u001b[0;36m0\u001b[0m\u001b[0;34m,\u001b[0m \u001b[0;36m10000\u001b[0m\u001b[0;34m]\u001b[0m\u001b[0;34m)\u001b[0m\u001b[0;34m\u001b[0m\u001b[0;34m\u001b[0m\u001b[0m\n\u001b[1;32m      4\u001b[0m \u001b[0;34m\u001b[0m\u001b[0m\n\u001b[1;32m      5\u001b[0m \u001b[0mfig\u001b[0m\u001b[0;34m.\u001b[0m\u001b[0mshow\u001b[0m\u001b[0;34m(\u001b[0m\u001b[0;34m)\u001b[0m\u001b[0;34m\u001b[0m\u001b[0;34m\u001b[0m\u001b[0m\n",
      "\u001b[0;31mNameError\u001b[0m: name 'px' is not defined"
     ]
    }
   ],
   "metadata": {}
  }
 ],
 "metadata": {
  "orig_nbformat": 4,
  "language_info": {
   "name": "python",
   "version": "3.9.7",
   "mimetype": "text/x-python",
   "codemirror_mode": {
    "name": "ipython",
    "version": 3
   },
   "pygments_lexer": "ipython3",
   "nbconvert_exporter": "python",
   "file_extension": ".py"
  },
  "kernelspec": {
   "name": "python3",
   "display_name": "Python 3.9.7 64-bit ('deploy_env': conda)"
  },
  "interpreter": {
   "hash": "2013e2e9de8ee2042914d6d6d2e61b855ef345c3e07cff22567388e13b1b91c8"
  }
 },
 "nbformat": 4,
 "nbformat_minor": 2
}